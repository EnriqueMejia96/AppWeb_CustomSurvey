{
 "cells": [
  {
   "cell_type": "code",
   "execution_count": null,
   "id": "d4f13f9b-e934-48b5-aece-79c60ec571fe",
   "metadata": {},
   "outputs": [],
   "source": [
    "PROJECT_ID = !(gcloud config get-value core/project)\n",
    "PROJECT_ID = PROJECT_ID[0]\n",
    "REGION='us-east4'\n",
    "REPO='dmc'\n",
    "IMAGE_NAME='custom-survey'\n",
    "TAG='latest'\n",
    "\n",
    "# For artifact repositories\n",
    "# Crea un repositorio nuevo de Artifact Registry llamado containers:\n",
    "!gcloud artifacts repositories create $REPO --repository-format=docker --location=$REGION\n",
    "# Compila y publica la imagen de contenedor:\n",
    "!gcloud builds submit -t $REGION-docker.pkg.dev/$PROJECT_ID/$REPO/$IMAGE_NAME:$TAG ."
   ]
  }
 ],
 "metadata": {
  "environment": {
   "kernel": "conda-root-py",
   "name": "workbench-notebooks.m118",
   "type": "gcloud",
   "uri": "us-docker.pkg.dev/deeplearning-platform-release/gcr.io/workbench-notebooks:m118"
  },
  "kernelspec": {
   "display_name": "Python 3 (ipykernel)",
   "language": "python",
   "name": "conda-root-py"
  },
  "language_info": {
   "codemirror_mode": {
    "name": "ipython",
    "version": 3
   },
   "file_extension": ".py",
   "mimetype": "text/x-python",
   "name": "python",
   "nbconvert_exporter": "python",
   "pygments_lexer": "ipython3",
   "version": "3.10.13"
  }
 },
 "nbformat": 4,
 "nbformat_minor": 5
}
